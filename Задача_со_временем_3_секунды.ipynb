{
  "nbformat": 4,
  "nbformat_minor": 0,
  "metadata": {
    "colab": {
      "provenance": [],
      "authorship_tag": "ABX9TyNCGRyQQSShSpYed+VlwDvo",
      "include_colab_link": true
    },
    "kernelspec": {
      "name": "python3",
      "display_name": "Python 3"
    },
    "language_info": {
      "name": "python"
    }
  },
  "cells": [
    {
      "cell_type": "markdown",
      "metadata": {
        "id": "view-in-github",
        "colab_type": "text"
      },
      "source": [
        "<a href=\"https://colab.research.google.com/github/ms8963733/rep1/blob/main/%D0%97%D0%B0%D0%B4%D0%B0%D1%87%D0%B0_%D1%81%D0%BE_%D0%B2%D1%80%D0%B5%D0%BC%D0%B5%D0%BD%D0%B5%D0%BC_3_%D1%81%D0%B5%D0%BA%D1%83%D0%BD%D0%B4%D1%8B.ipynb\" target=\"_parent\"><img src=\"https://colab.research.google.com/assets/colab-badge.svg\" alt=\"Open In Colab\"/></a>"
      ]
    },
    {
      "cell_type": "code",
      "execution_count": null,
      "metadata": {
        "colab": {
          "base_uri": "https://localhost:8080/"
        },
        "id": "RQXfDL7bdo7H",
        "outputId": "3ffbc2d5-1686-49f0-e5f6-71e292354db5"
      },
      "outputs": [
        {
          "output_type": "stream",
          "name": "stdout",
          "text": [
            "Новый пример: 1559 + 557?\n",
            "Ваш ответ:2116\n",
            "Поздравляю!Ваш ответ верный\n"
          ]
        }
      ],
      "source": [
        "import random\n",
        "import time\n",
        "def numbers_game():\n",
        "\n",
        "  seconds = 3\n",
        "\n",
        "  while True:\n",
        "\n",
        "    first_number = random.randint(1,10000)\n",
        "    second_number = random.randint(1,1000)\n",
        "    right_answer = first_number +second_number\n",
        "\n",
        "    print(f\"Новый пример: {first_number} + {second_number}?\")\n",
        "    user_answer = int(input(\"Ваш ответ:\"))\n",
        "\n",
        "    if user_answer == right_answer:\n",
        "      print(f\"Поздравляю!Ваш ответ верный\")\n",
        "      return\n",
        "      #break\n",
        "\n",
        "    print(f\"Неверно. Штрафная пауза: {seconds} секунд\")\n",
        "    time.sleep(seconds)\n",
        "    бseconds = seconds + 1\n",
        "\n",
        "numbers_game()\n",
        "\n",
        "\n"
      ]
    },
    {
      "cell_type": "code",
      "source": [],
      "metadata": {
        "id": "o2qP7mD_CbLd"
      },
      "execution_count": null,
      "outputs": []
    }
  ]
}